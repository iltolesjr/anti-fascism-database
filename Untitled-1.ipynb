{
 "cells": [
  {
   "cell_type": "code",
   "execution_count": null,
   "id": "ec673b74",
   "metadata": {},
   "outputs": [],
   "source": [
    "from flask import Flask, jsonify, request\n",
    "import sqlite3\n",
    "\n",
    "app = Flask(__name__)\n",
    "\n",
    "def get_db_connection():\n",
    "    conn = sqlite3.connect('database.db')\n",
    "    conn.row_factory = sqlite3.Row\n",
    "    return conn\n",
    "\n",
    "@app.route('/tips', methods=['GET'])\n",
    "def get_tips():\n",
    "    conn = get_db_connection()\n",
    "    tips = conn.execute('SELECT * FROM tips').fetchall()\n",
    "    conn.close()\n",
    "    return jsonify([dict(row) for row in tips])\n",
    "\n",
    "@app.route('/kanban', methods=['GET', 'POST'])\n",
    "def kanban():\n",
    "    conn = get_db_connection()\n",
    "    if request.method == 'GET':\n",
    "        tasks = conn.execute('SELECT * FROM kanban').fetchall()\n",
    "        conn.close()\n",
    "        return jsonify([dict(row) for row in tasks])\n",
    "    elif request.method == 'POST':\n",
    "        new_task = request.json\n",
    "        conn.execute('INSERT INTO kanban (task, status, priority) VALUES (?, ?, ?)',\n",
    "                     (new_task['task'], new_task['status'], new_task['priority']))\n",
    "        conn.commit()\n",
    "        conn.close()\n",
    "        return jsonify({'message': 'Task added successfully'}), 201\n",
    "\n",
    "if __name__ == '__main__':\n",
    "    app.run(debug=True)"
   ]
  }
 ],
 "metadata": {
  "language_info": {
   "name": "python"
  }
 },
 "nbformat": 4,
 "nbformat_minor": 5
}
